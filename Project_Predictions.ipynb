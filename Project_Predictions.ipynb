{
  "nbformat": 4,
  "nbformat_minor": 0,
  "metadata": {
    "colab": {
      "name": "Project_Predictions",
      "provenance": [],
      "collapsed_sections": []
    },
    "kernelspec": {
      "name": "python3",
      "display_name": "Python 3"
    },
    "accelerator": "GPU"
  },
  "cells": [
    {
      "cell_type": "markdown",
      "metadata": {
        "id": "xQqDx7FakJ3d"
      },
      "source": [
        "This project was led by mgr inż. Dominik Pieczyński."
      ]
    },
    {
      "cell_type": "markdown",
      "metadata": {
        "id": "GRWP5WsckPry"
      },
      "source": [
        "# Purpose of the project\n",
        "The purpose of the project is to prepare a skull stripping method on T1 magnetic resonance imaging (MRI) images of the head. This method should extract the entire area occupied by the brain proper from the patient's raw scan, excluding bones, other soft tissues, etc.\n",
        "\n",
        "![](https://www.researchgate.net/profile/Dario_Pompili/publication/309402865/figure/fig1/AS:420915604148224@1477365508110/Skull-stripping-steps-A-input-images-B-brain-contouring-and-C-removal-of.png)\n",
        "\n"
      ]
    },
    {
      "cell_type": "markdown",
      "metadata": {
        "id": "i5LQW1m_iTeo"
      },
      "source": [
        "Installing needed packages for reading and writing neuroimaging file formats"
      ]
    },
    {
      "cell_type": "code",
      "metadata": {
        "id": "ufx9v8FO9fAU",
        "colab": {
          "base_uri": "https://localhost:8080/"
        },
        "outputId": "44be627f-7cd0-4361-d24e-0ffd5a4f1637"
      },
      "source": [
        "!pip install --upgrade nibabel"
      ],
      "execution_count": 1,
      "outputs": [
        {
          "output_type": "stream",
          "text": [
            "Collecting nibabel\n",
            "\u001b[?25l  Downloading https://files.pythonhosted.org/packages/42/bf/ba089fec67237f6439c345b8977ca6dde67402ada6592bf84c2c78d557ff/nibabel-3.2.1-py3-none-any.whl (3.3MB)\n",
            "\u001b[K     |████████████████████████████████| 3.3MB 20.8MB/s \n",
            "\u001b[?25hRequirement already satisfied, skipping upgrade: packaging>=14.3 in /usr/local/lib/python3.6/dist-packages (from nibabel) (20.9)\n",
            "Requirement already satisfied, skipping upgrade: numpy>=1.14 in /usr/local/lib/python3.6/dist-packages (from nibabel) (1.19.5)\n",
            "Requirement already satisfied, skipping upgrade: pyparsing>=2.0.2 in /usr/local/lib/python3.6/dist-packages (from packaging>=14.3->nibabel) (2.4.7)\n",
            "Installing collected packages: nibabel\n",
            "  Found existing installation: nibabel 3.0.2\n",
            "    Uninstalling nibabel-3.0.2:\n",
            "      Successfully uninstalled nibabel-3.0.2\n",
            "Successfully installed nibabel-3.2.1\n"
          ],
          "name": "stdout"
        }
      ]
    },
    {
      "cell_type": "code",
      "metadata": {
        "id": "UCopYmv6iKQM",
        "colab": {
          "base_uri": "https://localhost:8080/"
        },
        "outputId": "0b42fc9e-cd26-446c-d577-a5959fbbfebf"
      },
      "source": [
        "!pip install --upgrade nibabel"
      ],
      "execution_count": 2,
      "outputs": [
        {
          "output_type": "stream",
          "text": [
            "Requirement already up-to-date: nibabel in /usr/local/lib/python3.6/dist-packages (3.2.1)\n",
            "Requirement already satisfied, skipping upgrade: packaging>=14.3 in /usr/local/lib/python3.6/dist-packages (from nibabel) (20.9)\n",
            "Requirement already satisfied, skipping upgrade: numpy>=1.14 in /usr/local/lib/python3.6/dist-packages (from nibabel) (1.19.5)\n",
            "Requirement already satisfied, skipping upgrade: pyparsing>=2.0.2 in /usr/local/lib/python3.6/dist-packages (from packaging>=14.3->nibabel) (2.4.7)\n"
          ],
          "name": "stdout"
        }
      ]
    },
    {
      "cell_type": "markdown",
      "metadata": {
        "id": "rsXep6RwiXdM"
      },
      "source": [
        "Downloading the dataset"
      ]
    },
    {
      "cell_type": "code",
      "metadata": {
        "id": "MucIjWr7h9aD",
        "colab": {
          "base_uri": "https://localhost:8080/"
        },
        "outputId": "bac251a2-e909-45e1-b0c7-a568224961cf"
      },
      "source": [
        "!wget \"https://putpoznanpl-my.sharepoint.com/:u:/g/personal/dominik_pieczynski_put_poznan_pl/EWIZ_xm8wXpMjQDgF2VQ1csB4QuHPKoj5vDpj6CQi9p-AA?e=yQr6fn&download=1\" -O public.zip\n",
        "!unzip -q public.zip\n",
        "!rm public.zip"
      ],
      "execution_count": 3,
      "outputs": [
        {
          "output_type": "stream",
          "text": [
            "--2021-02-05 19:07:58--  https://putpoznanpl-my.sharepoint.com/:u:/g/personal/dominik_pieczynski_put_poznan_pl/EWIZ_xm8wXpMjQDgF2VQ1csB4QuHPKoj5vDpj6CQi9p-AA?e=yQr6fn&download=1\n",
            "Resolving putpoznanpl-my.sharepoint.com (putpoznanpl-my.sharepoint.com)... 13.107.136.9\n",
            "Connecting to putpoznanpl-my.sharepoint.com (putpoznanpl-my.sharepoint.com)|13.107.136.9|:443... connected.\n",
            "HTTP request sent, awaiting response... 302 Found\n",
            "Location: /personal/dominik_pieczynski_put_poznan_pl/Documents/Public.zip?originalPath=aHR0cHM6Ly9wdXRwb3puYW5wbC1teS5zaGFyZXBvaW50LmNvbS86dTovZy9wZXJzb25hbC9kb21pbmlrX3BpZWN6eW5za2lfcHV0X3Bvem5hbl9wbC9FV0laX3htOHdYcE1qUURnRjJWUTFjc0I0UXVIUEtvajV2RHBqNkNRaTlwLUFBP3J0aW1lPXBjX2VXUW5LMkVn [following]\n",
            "--2021-02-05 19:07:58--  https://putpoznanpl-my.sharepoint.com/personal/dominik_pieczynski_put_poznan_pl/Documents/Public.zip?originalPath=aHR0cHM6Ly9wdXRwb3puYW5wbC1teS5zaGFyZXBvaW50LmNvbS86dTovZy9wZXJzb25hbC9kb21pbmlrX3BpZWN6eW5za2lfcHV0X3Bvem5hbl9wbC9FV0laX3htOHdYcE1qUURnRjJWUTFjc0I0UXVIUEtvajV2RHBqNkNRaTlwLUFBP3J0aW1lPXBjX2VXUW5LMkVn\n",
            "Reusing existing connection to putpoznanpl-my.sharepoint.com:443.\n",
            "HTTP request sent, awaiting response... 200 OK\n",
            "Length: 5672415949 (5.3G) [application/x-zip-compressed]\n",
            "Saving to: ‘public.zip’\n",
            "\n",
            "public.zip          100%[===================>]   5.28G  37.4MB/s    in 2m 14s  \n",
            "\n",
            "2021-02-05 19:10:12 (40.5 MB/s) - ‘public.zip’ saved [5672415949/5672415949]\n",
            "\n"
          ],
          "name": "stdout"
        }
      ]
    },
    {
      "cell_type": "code",
      "metadata": {
        "id": "Ldzwp9sJ53sd"
      },
      "source": [
        "!ls FirstDataset/train"
      ],
      "execution_count": null,
      "outputs": []
    },
    {
      "cell_type": "markdown",
      "metadata": {
        "id": "tg2qEj0_if9q"
      },
      "source": [
        "Here is the example code to download and unpack loaded data into three dimensional matrix. Additionally, there is function responsible for visualization middle slices in each of the three axes of the matrix."
      ]
    },
    {
      "cell_type": "code",
      "metadata": {
        "id": "YhtaEJBmijlZ"
      },
      "source": [
        "import numpy as np\n",
        "import nibabel as nib\n",
        "\n",
        "from typing import Tuple, List\n",
        "from pathlib import Path\n",
        "\n",
        "\n",
        "def load_raw_volume(path: Path) -> Tuple[np.ndarray, np.ndarray]:\n",
        "  data: nib.Nifti1Image = nib.load(str(path))\n",
        "  data = nib.as_closest_canonical(data)\n",
        "  raw_data = data.get_fdata(caching='unchanged', dtype=np.float32)\n",
        "  return raw_data, data.affine\n",
        "\n",
        "\n",
        "def load_labels_volume(path: Path) -> np.ndarray:\n",
        "  return load_raw_volume(path)[0].astype(np.uint8)\n",
        "\n",
        "\n",
        "def save_labels(data: np.ndarray, affine: np.ndarray, path: Path):\n",
        "  nib.save(nib.Nifti1Image(data, affine), str(path))\n",
        "\n",
        "\n",
        "def show_slices(slices: List[np.ndarray]):\n",
        "   fig, axes = plt.subplots(1, len(slices))\n",
        "   for i, data_slice in enumerate(slices):\n",
        "       axes[i].imshow(data_slice.T, cmap=\"gray\", origin=\"lower\")"
      ],
      "execution_count": 5,
      "outputs": []
    },
    {
      "cell_type": "code",
      "metadata": {
        "id": "NRdBy4OZ8-hr",
        "colab": {
          "base_uri": "https://localhost:8080/",
          "height": 363
        },
        "outputId": "615165b8-eee0-4d89-8b4d-401ef5c9892e"
      },
      "source": [
        "import matplotlib.pyplot as plt\n",
        "\n",
        "# Zmienna affine zawiera macierz, która będzie potrzebna przy zapisie predykcji do pliku\n",
        "raw_volume, affine = load_raw_volume('/content/FirstDataset/train/e66ce7e96b277d7d1b8835e5d2c94cd6.nii.gz')\n",
        "mask_volume = load_labels_volume('/content/FirstDataset/train/011e40c2b1d3c9bb53bd9e5a7efd04ba_mask.nii.gz')\n",
        "\n",
        "show_slices([raw_volume[raw_volume.shape[0] // 2], # Środkowy slice 2D w osi x\n",
        "             raw_volume[:, raw_volume.shape[1] // 2], # Środkowy slice 2D w osi y\n",
        "             raw_volume[:, :, raw_volume.shape[2] // 2]]) # Środkowy slice 2D w osi z\n",
        "\n",
        "show_slices([mask_volume[mask_volume.shape[0] // 2], # Środkowy slice 2D w osi x\n",
        "             mask_volume[:, mask_volume.shape[1] // 2], # Środkowy slice 2D w osi y\n",
        "             mask_volume[:, :, mask_volume.shape[2] // 2]]) # Środkowy slice 2D w osi z"
      ],
      "execution_count": 6,
      "outputs": [
        {
          "output_type": "display_data",
          "data": {
            "image/png": "[encoded data removed]",
            "text/plain": [
              "<Figure size 432x288 with 3 Axes>"
            ]
          },
          "metadata": {
            "tags": [],
            "needs_background": "light"
          }
        },
        {
          "output_type": "display_data",
          "data": {
            "image/png": "[encoded data removed]",
            "text/plain": [
              "<Figure size 432x288 with 3 Axes>"
            ]
          },
          "metadata": {
            "tags": [],
            "needs_background": "light"
          }
        }
      ]
    },
    {
      "cell_type": "code",
      "metadata": {
        "id": "Zs9c4yWKd38E"
      },
      "source": [
        "first_dataset_path = Path('/content/FirstDataset/train')\n",
        "second_dataset_path = Path('/content/SecondDataset/train')"
      ],
      "execution_count": 7,
      "outputs": []
    },
    {
      "cell_type": "code",
      "metadata": {
        "id": "99KEaQFOcmkF"
      },
      "source": [
        "# Sprawdźmy rozmiar wokseli\n",
        "\n",
        "for scan_path in first_dataset_path.iterdir():\n",
        "  if scan_path.name.endswith('mask.nii.gz'):\n",
        "    print(nib.load(str(scan_path)).header.get_zooms())\n",
        "\n",
        "print()\n",
        "\n",
        "for scan_path in second_dataset_path.iterdir():\n",
        "  print(nib.load(str(scan_path / 'T1w.nii.gz')).header.get_zooms())\n"
      ],
      "execution_count": null,
      "outputs": []
    },
    {
      "cell_type": "markdown",
      "metadata": {
        "id": "cMU0zsK-fdHy"
      },
      "source": [
        "# Extract masks and images from datasets"
      ]
    },
    {
      "cell_type": "markdown",
      "metadata": {
        "id": "Z-BO2Atcfu4o"
      },
      "source": [
        "As you can see the datasets have a different folder structure, so we need to iterate through elements and extract images and labels."
      ]
    },
    {
      "cell_type": "code",
      "metadata": {
        "id": "lJZTrbaSfzWo"
      },
      "source": [
        "# First dataset\r\n",
        "first_dataset_path = Path('/content/FirstDataset/train')\r\n",
        "\r\n",
        "X_first = []\r\n",
        "y_first = []\r\n",
        "for scan_path in sorted(first_dataset_path.iterdir()):\r\n",
        "  if scan_path.name.endswith('mask.nii.gz'):\r\n",
        "    y_first.append(scan_path)\r\n",
        "  else:\r\n",
        "    X_first.append(scan_path)"
      ],
      "execution_count": 8,
      "outputs": []
    },
    {
      "cell_type": "code",
      "metadata": {
        "id": "XumYBGnrhYvZ"
      },
      "source": [
        "# Second Dataset\r\n",
        "second_dataset_path = Path('/content/SecondDataset/train')\r\n",
        "\r\n",
        "X_second = []\r\n",
        "y_second = []\r\n",
        "for scan_path in sorted(second_dataset_path.iterdir()):\r\n",
        "  X_second.append(scan_path/'T1w.nii.gz')\r\n",
        "  y_second.append(scan_path/'mask.nii.gz')"
      ],
      "execution_count": 9,
      "outputs": []
    },
    {
      "cell_type": "code",
      "metadata": {
        "colab": {
          "base_uri": "https://localhost:8080/"
        },
        "id": "ov-Rq44mlW3v",
        "outputId": "358ac3ff-7b85-4572-f978-81eb621f1575"
      },
      "source": [
        "# Check the length of images and labels\r\n",
        "\r\n",
        "print(len(X_first))\r\n",
        "print(len(y_first))\r\n",
        "print(len(X_second))\r\n",
        "print(len(y_second))"
      ],
      "execution_count": null,
      "outputs": [
        {
          "output_type": "stream",
          "text": [
            "287\n",
            "287\n",
            "100\n",
            "100\n"
          ],
          "name": "stdout"
        }
      ]
    },
    {
      "cell_type": "code",
      "metadata": {
        "id": "Rq2AJhupnaKr"
      },
      "source": [
        "# Split the datasets on valid and train\r\n",
        "\r\n",
        "from sklearn.model_selection import train_test_split\r\n",
        "\r\n",
        "X_train_first, X_valid_first, y_train_first, y_valid_first = train_test_split(X_first, y_first, train_size=0.8, random_state=42) # split dataset into train and valid\r\n",
        "X_train_second, X_valid_second, y_train_second, y_valid_second = train_test_split(X_second, y_second, train_size=0.8, random_state=42) # split dataset into train and valid"
      ],
      "execution_count": null,
      "outputs": []
    },
    {
      "cell_type": "code",
      "metadata": {
        "id": "URg1G4j2_Mxo"
      },
      "source": [
        "# Check the length of train/valid images and train/valid labels\r\n",
        "\r\n",
        "print(len(X_train_first))\r\n",
        "print(len(X_valid_first))\r\n",
        "print(\"-----\")\r\n",
        "print(len(y_train_first))\r\n",
        "print(len(y_valid_first))\r\n",
        "print(\"second\")\r\n",
        "\r\n",
        "print(len(X_train_second))\r\n",
        "print(len(X_valid_second))\r\n",
        "print(\"---\")\r\n",
        "print(len(y_train_second))\r\n",
        "print(len(y_valid_second))"
      ],
      "execution_count": null,
      "outputs": []
    },
    {
      "cell_type": "code",
      "metadata": {
        "id": "XDoL8Ee8m-3_"
      },
      "source": [
        "# Merge two datasets\r\n",
        "\r\n",
        "X_train = X_train_first + X_train_second\r\n",
        "X_valid = X_valid_first + X_valid_second\r\n",
        "y_train = y_train_first + y_train_second\r\n",
        "y_valid = y_valid_first + y_valid_second"
      ],
      "execution_count": null,
      "outputs": []
    },
    {
      "cell_type": "code",
      "metadata": {
        "id": "OoSjYR1QlnQC"
      },
      "source": [
        "# Check the length of train/valid images and train/valid labels\r\n",
        "\r\n",
        "print(len(X_train))\r\n",
        "print(len(X_valid))\r\n",
        "print(len(y_train))\r\n",
        "print(len(y_valid))"
      ],
      "execution_count": null,
      "outputs": []
    },
    {
      "cell_type": "code",
      "metadata": {
        "id": "tmVScvqS5Y2S"
      },
      "source": [
        "# Create folders in the structure needed for the generators used below\r\n",
        "\r\n",
        "! mkdir /content/data_x\r\n",
        "! mkdir /content/data_x/train\r\n",
        "! mkdir /content/data_x/valid\r\n",
        "\r\n",
        "! mkdir /content/data_x/train/train_images\r\n",
        "! mkdir /content/data_x/train/train_images/train_images\r\n",
        "\r\n",
        "! mkdir /content/data_x/train/train_labels\r\n",
        "! mkdir /content/data_x/train/train_labels/train_labels\r\n",
        "\r\n",
        "! mkdir /content/data_x/valid/valid_images\r\n",
        "! mkdir /content/data_x/valid/valid_images/valid_images\r\n",
        "\r\n",
        "! mkdir /content/data_x/valid/valid_labels\r\n",
        "! mkdir /content/data_x/valid/valid_labels/valid_labels"
      ],
      "execution_count": null,
      "outputs": []
    },
    {
      "cell_type": "markdown",
      "metadata": {
        "id": "uL_OI0GD7sOv"
      },
      "source": [
        "# Convert images to png format"
      ]
    },
    {
      "cell_type": "code",
      "metadata": {
        "id": "G18uwUe87rm7"
      },
      "source": [
        "import pathlib\r\n",
        "import cv2\r\n",
        "\r\n",
        "image = 0\r\n",
        "mask = 0\r\n",
        "\r\n",
        "images_dir = '/content/data_x/train/train_images/train_images/'\r\n",
        "masks_dir = '/content/data_x/train/train_labels/train_labels/'\r\n",
        "\r\n",
        "\r\n",
        "for X_path, label_path in zip(X_train, y_train):\r\n",
        "  \r\n",
        "  # Load volume and normalize it to [0:1]\r\n",
        "  raw_volume, affine = load_raw_volume(X_path)\r\n",
        "  raw_volume = (raw_volume - np.min(raw_volume)) / (np.max(raw_volume) - np.min(raw_volume))\r\n",
        "  im_x_size, im_y_size, im_z_size = raw_volume.shape\r\n",
        "\r\n",
        "  # Masks are already normalized to [0:1]\r\n",
        "  mask_volume = load_labels_volume(label_path)\r\n",
        "  mask_x_size, mask_y_size, mask_z_size = mask_volume.shape\r\n",
        "\r\n",
        "  mask += 1\r\n",
        "  image += 1\r\n",
        "  count = 0\r\n",
        "\r\n",
        "  # Iterate through axis x\r\n",
        "  for img_index, mask_index in zip(range(im_x_size), range(mask_x_size)):\r\n",
        "\r\n",
        "    img_slice = raw_volume[img_index]\r\n",
        "    mask_slice = mask_volume[mask_index]\r\n",
        "    count += 1\r\n",
        "\r\n",
        "    mask_dir = masks_dir + 'mask' + str(mask)  + '_x00' + str(count) +'.png'\r\n",
        "    image_dir = images_dir + 'image' + str(image) + '_x00' + str(count) +'.png'\r\n",
        "    \r\n",
        "    # Save labels in range [0:1]\r\n",
        "    cv2.imwrite(mask_dir, mask_slice)\r\n",
        "\r\n",
        "    # Save images in range [0:255]\r\n",
        "    cv2.imwrite(image_dir, img_slice * 255)\r\n"
      ],
      "execution_count": null,
      "outputs": []
    },
    {
      "cell_type": "code",
      "metadata": {
        "id": "Oe33hrOUQnBv"
      },
      "source": [
        "#VALID\n",
        "import pathlib\n",
        "import cv2\n",
        "\n",
        "image = 0\n",
        "mask = 0\n",
        "\n",
        "images_dir = '/content/data_x/valid/valid_images/valid_images/'\n",
        "masks_dir = '/content/data_x/valid/valid_labels/valid_labels/'\n",
        "\n",
        "\n",
        "for X_path, label_path in zip(X_valid, y_valid):\n",
        "\n",
        "  # Load volume and normalize it to [0:1]\n",
        "  raw_volume, affine = load_raw_volume(X_path)\n",
        "  raw_volume = (raw_volume - np.min(raw_volume)) / (np.max(raw_volume) - np.min(raw_volume))\n",
        "  im_x_size, im_y_size, im_z_size = raw_volume.shape\n",
        "\n",
        "  # Masks are already normalized to [0:1]\n",
        "  mask_volume = load_labels_volume(label_path)\n",
        "  mask_x_size, mask_y_size, mask_z_size = mask_volume.shape\n",
        "\n",
        "  mask += 1\n",
        "  image += 1\n",
        "  count = 0\n",
        "\n",
        "  # Iterate through axis x\n",
        "  for img_index, mask_index in zip(range(im_x_size), range(mask_x_size)):\n",
        "\n",
        "    img_slice = raw_volume[img_index]\n",
        "    mask_slice = mask_volume[mask_index]\n",
        "    count += 1\n",
        "\n",
        "    mask_dir = masks_dir + 'mask' + str(mask)  + '_x00' + str(count) +'.png'\n",
        "    image_dir = images_dir + 'image' + str(image) + '_x00' + str(count) +'.png'\n",
        "    \n",
        "    # Save labels in range [0:1]\n",
        "    cv2.imwrite(mask_dir, mask_slice)\n",
        "\n",
        "    # Save images in range [0:255]\n",
        "    cv2.imwrite(image_dir, img_slice * 255)"
      ],
      "execution_count": null,
      "outputs": []
    },
    {
      "cell_type": "markdown",
      "metadata": {
        "id": "xL1eXo4ar1T4"
      },
      "source": [
        "# Saing dataset on drive in order to prevent losing the converted images and masks"
      ]
    },
    {
      "cell_type": "code",
      "metadata": {
        "id": "O5lyJY-Rz2jj",
        "colab": {
          "base_uri": "https://localhost:8080/"
        },
        "outputId": "7e2aa427-fadf-443b-840c-3579497b4f71"
      },
      "source": [
        "from google.colab import drive\n",
        "drive.mount('/content/drive')"
      ],
      "execution_count": 10,
      "outputs": [
        {
          "output_type": "stream",
          "text": [
            "Mounted at /content/drive\n"
          ],
          "name": "stdout"
        }
      ]
    },
    {
      "cell_type": "code",
      "metadata": {
        "id": "p-TISt7bJ_Gb"
      },
      "source": [
        "# Zip folder\r\n",
        "!zip -r train.zip /content/data_x"
      ],
      "execution_count": null,
      "outputs": []
    },
    {
      "cell_type": "code",
      "metadata": {
        "id": "nPFCF8bvKLxM"
      },
      "source": [
        "# Move zip folder on your drive\r\n",
        "! mv /content/dataset.zip /content/drive/MyDrive"
      ],
      "execution_count": null,
      "outputs": []
    },
    {
      "cell_type": "code",
      "metadata": {
        "colab": {
          "base_uri": "https://localhost:8080/"
        },
        "id": "3hBgqjLDAPMR",
        "outputId": "8683d16d-23f4-43c5-f5ff-c416c075e37a"
      },
      "source": [
        "# Check the files in folder if you want to be sure that your paths aren't empty\r\n",
        "\r\n",
        "import os\r\n",
        "list = os.listdir('/content/data_x/valid/valid_labels/valid_labels') # dir is your directory path\r\n",
        "number_files = len(list)\r\n",
        "number_files"
      ],
      "execution_count": null,
      "outputs": [
        {
          "output_type": "execute_result",
          "data": {
            "text/plain": [
              "15620"
            ]
          },
          "metadata": {
            "tags": []
          },
          "execution_count": 22
        }
      ]
    },
    {
      "cell_type": "markdown",
      "metadata": {
        "id": "RkOPPswpcLDN"
      },
      "source": [
        "# Prepare data for training\r\n"
      ]
    },
    {
      "cell_type": "markdown",
      "metadata": {
        "id": "Hi9wO_rwtM0e"
      },
      "source": [
        "Here is the example code if you lost your temporary data on colab and want to upload converted data from your drive."
      ]
    },
    {
      "cell_type": "code",
      "metadata": {
        "id": "WnnUZ7FeCIDU",
        "colab": {
          "base_uri": "https://localhost:8080/"
        },
        "outputId": "ef6cb239-5f38-4289-ca21-4946da5c9ec4"
      },
      "source": [
        "from google.colab import drive\r\n",
        "drive.mount('/content/drive')"
      ],
      "execution_count": 11,
      "outputs": [
        {
          "output_type": "stream",
          "text": [
            "Drive already mounted at /content/drive; to attempt to forcibly remount, call drive.mount(\"/content/drive\", force_remount=True).\n"
          ],
          "name": "stdout"
        }
      ]
    },
    {
      "cell_type": "code",
      "metadata": {
        "id": "GEbE5Mr-3csb"
      },
      "source": [
        "!unzip -q \"/content/drive/MyDrive/zpo_dataset/dataset.zip\" # Path with converted images to png"
      ],
      "execution_count": 12,
      "outputs": []
    },
    {
      "cell_type": "markdown",
      "metadata": {
        "id": "YFucsuQ-z_7m"
      },
      "source": [
        "# Downloading test dataset"
      ]
    },
    {
      "cell_type": "code",
      "metadata": {
        "id": "yt_fCVbyVqQV"
      },
      "source": [
        "from pathlib import Path\n",
        "\n",
        "predictions_base_path = Path('/content/Predictions')\n",
        "first_dataset_predictions_path = predictions_base_path / 'first'\n",
        "second_dataset_predictions_path = predictions_base_path / 'second'\n",
        "\n",
        "first_dataset_predictions_path.mkdir(exist_ok=True, parents=True)\n",
        "second_dataset_predictions_path.mkdir(exist_ok=True, parents=True)"
      ],
      "execution_count": null,
      "outputs": []
    },
    {
      "cell_type": "code",
      "metadata": {
        "colab": {
          "base_uri": "https://localhost:8080/"
        },
        "id": "TlhZCyWpR1Yc",
        "outputId": "2c6080df-73df-4bfb-82fc-baac03986613"
      },
      "source": [
        "import tensorflow as tf\r\n",
        "\r\n",
        "datagen_params = dict(horizontal_flip=True,\r\n",
        "                    width_shift_range=0.1,\r\n",
        "                    height_shift_range=0.1)\r\n",
        "\r\n",
        "images_datagen = tf.keras.preprocessing.image.ImageDataGenerator(\r\n",
        "    rescale = 1 / 255,\r\n",
        "    **datagen_params  # rozpakowanie słownika wyżej, zapobiega to duplikacji kodu\r\n",
        ")\r\n",
        "\r\n",
        "masks_datagen = tf.keras.preprocessing.image.ImageDataGenerator(\r\n",
        "     **datagen_params\r\n",
        ")\r\n",
        "\r\n",
        "batch_size = 64\r\n",
        "validation_batch_size = 64\r\n",
        "\r\n",
        "train_images_generator = images_datagen.flow_from_directory(\r\n",
        "    \"/content/content/data_x/train/train_images/\",\r\n",
        "    target_size=(128, 128),\r\n",
        "    batch_size=batch_size,\r\n",
        "    seed=42,\r\n",
        "    interpolation='bilinear',\r\n",
        "    class_mode=None,\r\n",
        ")\r\n",
        "\r\n",
        "train_masks_generator = masks_datagen.flow_from_directory(\r\n",
        "    \"/content/content/data_x/train/train_labels/\",\r\n",
        "    target_size=(128, 128),\r\n",
        "    batch_size=batch_size,\r\n",
        "    seed=42,\r\n",
        "    class_mode=None,  \r\n",
        "    interpolation='bilinear',\r\n",
        "    color_mode='grayscale'    \r\n",
        ")\r\n",
        "\r\n",
        "val_images_generator = images_datagen.flow_from_directory(\r\n",
        "    \"/content/content/data_x/valid/valid_images/\",\r\n",
        "    target_size=(128, 128),\r\n",
        "    batch_size=validation_batch_size,\r\n",
        "    seed=42,\r\n",
        "    interpolation='bilinear',\r\n",
        "    class_mode=None,    \r\n",
        ")\r\n",
        "\r\n",
        "val_masks_generator = masks_datagen.flow_from_directory(\r\n",
        "    \"/content/content/data_x/valid/valid_labels/\",\r\n",
        "    target_size=(128, 128),\r\n",
        "    batch_size=validation_batch_size,\r\n",
        "    seed=42,\r\n",
        "    class_mode=None,\r\n",
        "    interpolation='bilinear',\r\n",
        "    color_mode='grayscale' \r\n",
        ")\r\n",
        "\r\n",
        "\r\n",
        "train_combined_generator = zip(train_images_generator, train_masks_generator)\r\n",
        "val_combined_generator = zip(val_images_generator, val_masks_generator)"
      ],
      "execution_count": 13,
      "outputs": [
        {
          "output_type": "stream",
          "text": [
            "Found 61595 images belonging to 1 classes.\n",
            "Found 61595 images belonging to 1 classes.\n",
            "Found 15620 images belonging to 1 classes.\n",
            "Found 15620 images belonging to 1 classes.\n"
          ],
          "name": "stdout"
        }
      ]
    },
    {
      "cell_type": "code",
      "metadata": {
        "id": "MG7fU07AVQKh",
        "colab": {
          "base_uri": "https://localhost:8080/",
          "height": 327
        },
        "outputId": "a8454073-3f80-4938-b635-20bad0b61d36"
      },
      "source": [
        "import matplotlib.pyplot as plt\r\n",
        "import numpy as np\r\n",
        "\r\n",
        "images, masks = next(train_combined_generator)\r\n",
        "\r\n",
        "fig = plt.figure()\r\n",
        "fig.add_subplot(1, 2, 1)\r\n",
        "print(images[0].shape)\r\n",
        "print(np.min(images[0]))\r\n",
        "print(np.max(images[0]))\r\n",
        "\r\n",
        "plt.imshow(images[0])\r\n",
        "\r\n",
        "fig.add_subplot(1, 2, 2)\r\n",
        "\r\n",
        "print(masks[0].squeeze().shape)\r\n",
        "print(np.min(masks[0]))\r\n",
        "print(np.max(masks[0]))\r\n",
        "\r\n",
        "plt.imshow(masks[0].squeeze())"
      ],
      "execution_count": 14,
      "outputs": [
        {
          "output_type": "stream",
          "text": [
            "(128, 128, 3)\n",
            "0.0\n",
            "0.5008892\n",
            "(128, 128)\n",
            "0.0\n",
            "1.0\n"
          ],
          "name": "stdout"
        },
        {
          "output_type": "execute_result",
          "data": {
            "text/plain": [
              "<matplotlib.image.AxesImage at 0x7fa06fd120b8>"
            ]
          },
          "metadata": {
            "tags": []
          },
          "execution_count": 14
        },
        {
          "output_type": "display_data",
          "data": {
            "image/png": "[encoded data removed]",
            "text/plain": [
              "<Figure size 432x288 with 2 Axes>"
            ]
          },
          "metadata": {
            "tags": [],
            "needs_background": "light"
          }
        }
      ]
    },
    {
      "cell_type": "code",
      "metadata": {
        "id": "7-qfBhJIew53"
      },
      "source": [
        "from tensorflow import keras\r\n",
        "\r\n",
        "model = keras.Sequential([\r\n",
        "  keras.layers.InputLayer(input_shape=(128, 128, 3)),\r\n",
        "  keras.layers.Conv2D(filters=256, kernel_size=3, strides=1, padding='same', activation='relu'),\r\n",
        "  keras.layers.Conv2D(filters=256, kernel_size=3, strides=1, padding='same', activation='relu'),\r\n",
        "  keras.layers.MaxPool2D(),\r\n",
        "\r\n",
        "  keras.layers.Conv2D(filters=128, kernel_size=3, strides=1, padding='same', activation='relu'),\r\n",
        "  keras.layers.Conv2D(filters=128, kernel_size=3, strides=1, padding='same', activation='relu'),\r\n",
        "  keras.layers.MaxPool2D(),\r\n",
        "\r\n",
        "  keras.layers.Conv2D(filters=64, kernel_size=3, strides=1, padding='same', activation='relu'),\r\n",
        "  keras.layers.Conv2D(filters=64, kernel_size=3, strides=1, padding='same', activation='relu'),\r\n",
        "  keras.layers.MaxPool2D(),\r\n",
        "\r\n",
        "  keras.layers.Conv2D(filters=32, kernel_size=3, strides=1, padding='same', activation='relu'),\r\n",
        "  keras.layers.Conv2D(filters=32, kernel_size=3, strides=1, padding='same', activation='relu'),\r\n",
        "  keras.layers.MaxPool2D(),\r\n",
        "\r\n",
        "  keras.layers.Conv2D(filters=32, kernel_size=3, strides=1, padding='same', activation='relu'),\r\n",
        "  keras.layers.Conv2D(filters=32, kernel_size=3, strides=1, padding='same', activation='relu'),\r\n",
        "  keras.layers.UpSampling2D(),\r\n",
        "\r\n",
        "  keras.layers.Conv2D(filters=64, kernel_size=3, strides=1, padding='same', activation='relu'),\r\n",
        "  keras.layers.Conv2D(filters=64, kernel_size=3, strides=1, padding='same', activation='relu'),\r\n",
        "  keras.layers.UpSampling2D(),\r\n",
        "\r\n",
        "  keras.layers.Conv2D(filters=128, kernel_size=3, strides=1, padding='same', activation='relu'),\r\n",
        "  keras.layers.Conv2D(filters=128, kernel_size=3, strides=1, padding='same', activation='relu'),\r\n",
        "  keras.layers.UpSampling2D(),\r\n",
        "\r\n",
        "  keras.layers.Conv2D(filters=256, kernel_size=3, strides=1, padding='same', activation='relu'),\r\n",
        "  keras.layers.Conv2D(filters=256, kernel_size=3, strides=1, padding='same', activation='relu'),\r\n",
        "  keras.layers.UpSampling2D(),\r\n",
        "\r\n",
        "  keras.layers.Conv2D(filters=1, kernel_size=3, strides=1, padding='same', activation=\"sigmoid\")\r\n",
        "  \r\n",
        "])"
      ],
      "execution_count": 15,
      "outputs": []
    },
    {
      "cell_type": "code",
      "metadata": {
        "id": "GRiMkCkbe0OO",
        "colab": {
          "base_uri": "https://localhost:8080/"
        },
        "outputId": "18f069da-b5a2-4fe8-87c9-ec289ea3df48"
      },
      "source": [
        "model.summary()"
      ],
      "execution_count": 16,
      "outputs": [
        {
          "output_type": "stream",
          "text": [
            "Model: \"sequential\"\n",
            "_________________________________________________________________\n",
            "Layer (type)                 Output Shape              Param #   \n",
            "=================================================================\n",
            "conv2d (Conv2D)              (None, 128, 128, 256)     7168      \n",
            "_________________________________________________________________\n",
            "conv2d_1 (Conv2D)            (None, 128, 128, 256)     590080    \n",
            "_________________________________________________________________\n",
            "max_pooling2d (MaxPooling2D) (None, 64, 64, 256)       0         \n",
            "_________________________________________________________________\n",
            "conv2d_2 (Conv2D)            (None, 64, 64, 128)       295040    \n",
            "_________________________________________________________________\n",
            "conv2d_3 (Conv2D)            (None, 64, 64, 128)       147584    \n",
            "_________________________________________________________________\n",
            "max_pooling2d_1 (MaxPooling2 (None, 32, 32, 128)       0         \n",
            "_________________________________________________________________\n",
            "conv2d_4 (Conv2D)            (None, 32, 32, 64)        73792     \n",
            "_________________________________________________________________\n",
            "conv2d_5 (Conv2D)            (None, 32, 32, 64)        36928     \n",
            "_________________________________________________________________\n",
            "max_pooling2d_2 (MaxPooling2 (None, 16, 16, 64)        0         \n",
            "_________________________________________________________________\n",
            "conv2d_6 (Conv2D)            (None, 16, 16, 32)        18464     \n",
            "_________________________________________________________________\n",
            "conv2d_7 (Conv2D)            (None, 16, 16, 32)        9248      \n",
            "_________________________________________________________________\n",
            "max_pooling2d_3 (MaxPooling2 (None, 8, 8, 32)          0         \n",
            "_________________________________________________________________\n",
            "conv2d_8 (Conv2D)            (None, 8, 8, 32)          9248      \n",
            "_________________________________________________________________\n",
            "conv2d_9 (Conv2D)            (None, 8, 8, 32)          9248      \n",
            "_________________________________________________________________\n",
            "up_sampling2d (UpSampling2D) (None, 16, 16, 32)        0         \n",
            "_________________________________________________________________\n",
            "conv2d_10 (Conv2D)           (None, 16, 16, 64)        18496     \n",
            "_________________________________________________________________\n",
            "conv2d_11 (Conv2D)           (None, 16, 16, 64)        36928     \n",
            "_________________________________________________________________\n",
            "up_sampling2d_1 (UpSampling2 (None, 32, 32, 64)        0         \n",
            "_________________________________________________________________\n",
            "conv2d_12 (Conv2D)           (None, 32, 32, 128)       73856     \n",
            "_________________________________________________________________\n",
            "conv2d_13 (Conv2D)           (None, 32, 32, 128)       147584    \n",
            "_________________________________________________________________\n",
            "up_sampling2d_2 (UpSampling2 (None, 64, 64, 128)       0         \n",
            "_________________________________________________________________\n",
            "conv2d_14 (Conv2D)           (None, 64, 64, 256)       295168    \n",
            "_________________________________________________________________\n",
            "conv2d_15 (Conv2D)           (None, 64, 64, 256)       590080    \n",
            "_________________________________________________________________\n",
            "up_sampling2d_3 (UpSampling2 (None, 128, 128, 256)     0         \n",
            "_________________________________________________________________\n",
            "conv2d_16 (Conv2D)           (None, 128, 128, 1)       2305      \n",
            "=================================================================\n",
            "Total params: 2,361,217\n",
            "Trainable params: 2,361,217\n",
            "Non-trainable params: 0\n",
            "_________________________________________________________________\n"
          ],
          "name": "stdout"
        }
      ]
    },
    {
      "cell_type": "code",
      "metadata": {
        "id": "HjT7jh4i5Q6E"
      },
      "source": [
        "from keras import backend as K\r\n",
        "\r\n",
        "# lepsza dokładność, to dąży do 1\r\n",
        "def dice_coef(y_true, y_pred, smooth=1):\r\n",
        "    \"\"\"\r\n",
        "    Dice = (2*|X & Y|)/ (|X|+ |Y|)\r\n",
        "         =  2*sum(|A*B|)/(sum(A^2)+sum(B^2))\r\n",
        "    ref: https://arxiv.org/pdf/1606.04797v1.pdf\r\n",
        "    \"\"\"\r\n",
        "    y_true = K.flatten(y_true)\r\n",
        "    y_pred = K.flatten(y_pred)\r\n",
        "\r\n",
        "    intersection = K.sum(K.abs(y_true * y_pred), axis=-1)\r\n",
        "    return (2. * intersection + smooth) / (K.sum(K.square(y_true),-1) + K.sum(K.square(y_pred),-1) + smooth)\r\n",
        "\r\n",
        "# dąży do 0 - im bliżej zera, tym lepsze dopasowanie\r\n",
        "def dice_coef_loss(y_true, y_pred):\r\n",
        "    return 1-dice_coef(y_true, y_pred)\r\n",
        "\r\n",
        "# wykorzystać jako loss = diec_coef_loss f\r\n",
        "# wykorzystać jako metrykę metrics = dice_coef"
      ],
      "execution_count": null,
      "outputs": []
    },
    {
      "cell_type": "code",
      "metadata": {
        "id": "aZLCTpDUf-4O"
      },
      "source": [
        "model.compile(\r\n",
        "    optimizer=tf.keras.optimizers.Adam(lr=1e-3),\r\n",
        "    loss=dice_coef_loss,\r\n",
        "    metrics=[dice_coef]\r\n",
        ")"
      ],
      "execution_count": null,
      "outputs": []
    },
    {
      "cell_type": "code",
      "metadata": {
        "id": "zOb3b3cpgBF6"
      },
      "source": [
        "training_samples = train_images_generator.n\r\n",
        "validation_samples = val_images_generator.n\r\n",
        "\r\n",
        "batch_size = 128\r\n",
        "validation_batch_size = 256\r\n",
        "\r\n",
        "model.fit(\r\n",
        "    train_combined_generator,\r\n",
        "    steps_per_epoch=training_samples // batch_size,\r\n",
        "    validation_data=val_combined_generator,\r\n",
        "    validation_steps = validation_samples // validation_batch_size,\r\n",
        "    epochs=5,\r\n",
        "    verbose=1)"
      ],
      "execution_count": null,
      "outputs": []
    },
    {
      "cell_type": "markdown",
      "metadata": {
        "id": "K5rYof4sfZw7"
      },
      "source": [
        "#Saving model"
      ]
    },
    {
      "cell_type": "code",
      "metadata": {
        "id": "n34RuaQsStNK"
      },
      "source": [
        "# Save the model\r\n",
        "model.save('my_model.h5')"
      ],
      "execution_count": null,
      "outputs": []
    },
    {
      "cell_type": "code",
      "metadata": {
        "id": "NA0rzGJ1VHVv"
      },
      "source": [
        "# Copy model on your drive\r\n",
        "! cp /content/my_model.h5 /content/drive/MyDrive/zpo_dataset"
      ],
      "execution_count": null,
      "outputs": []
    },
    {
      "cell_type": "code",
      "metadata": {
        "id": "D-9n8dGibZYR"
      },
      "source": [
        "# Load model from your drive (remember that you have to mount your drive first)\r\n",
        "import tensorflow as tf\r\n",
        "from tensorflow import keras\r\n",
        "from keras.models import load_model\r\n",
        "\r\n",
        "model = load_model(\"/content/drive/MyDrive/zpo_dataset/my_model.h5\", compile=False)"
      ],
      "execution_count": null,
      "outputs": []
    },
    {
      "cell_type": "markdown",
      "metadata": {
        "id": "SR2PlH2NVrl6"
      },
      "source": [
        "#Creating predictions for your test dataset"
      ]
    },
    {
      "cell_type": "code",
      "metadata": {
        "id": "gNKzwJ10jRQs"
      },
      "source": [
        "!rm -rf /content/Predictions.zip"
      ],
      "execution_count": null,
      "outputs": []
    },
    {
      "cell_type": "code",
      "metadata": {
        "id": "daCaxXeg8XN4"
      },
      "source": [
        "first_dataset_test_path = Path('/content/FirstDataset/test')\r\n",
        "second_dataset_test_path = Path('/content/SecondDataset/test')\r\n",
        "\r\n",
        "import cv2\r\n",
        "import matplotlib.pyplot as plt\r\n",
        "\r\n",
        "\r\n",
        "for scan_path in first_dataset_test_path.iterdir():\r\n",
        "\r\n",
        "  # Load volume and normalize it to [0:1]\r\n",
        "  data, affine = load_raw_volume(scan_path)\r\n",
        "  data = (data - np.min(data)) / (np.max(data) - np.min(data))\r\n",
        "\r\n",
        "  labels = np.zeros(data.shape, dtype=np.uint8)\r\n",
        "  x_size, y_size, z_size = data.shape\r\n",
        "\r\n",
        "  for x_index in range(x_size):\r\n",
        "    data_slice = data[x_index, :, :]\r\n",
        "    data_slice_size = data_slice.shape\r\n",
        "\r\n",
        "    # Convert data into input images to the neural network\r\n",
        "    data_slice = cv2.resize(data_slice, (128, 128)).astype(np.float32) \r\n",
        "    data_slice = np.stack((data_slice,)*3, axis=-1)\r\n",
        "    data_slice = data_slice[np.newaxis, :]\r\n",
        "\r\n",
        "    prediction = model.predict(data_slice)\r\n",
        "    prediction[prediction > 0.3] = 1\r\n",
        "    prediction[prediction < 0.3] = 0\r\n",
        "\r\n",
        "    prediction = cv2.resize(prediction.squeeze(), data_slice_size[::-1])\r\n",
        "    labels[x_index, :, :] = prediction[:,:]\r\n",
        "\r\n",
        "  save_labels(labels, affine, first_dataset_predictions_path / scan_path.name)\r\n",
        "\r\n",
        "for scan_path in second_dataset_test_path.iterdir():\r\n",
        "  \r\n",
        "  # Load volume and normalize it to [0:1]\r\n",
        "  data, affine = load_raw_volume(scan_path / 'T1w.nii.gz')\r\n",
        "  data = (data - np.min(data)) / (np.max(data) - np.min(data))\r\n",
        "\r\n",
        "  labels = np.zeros(data.shape, dtype=np.uint8)\r\n",
        "  x_size, y_size, z_size = data.shape\r\n",
        "\r\n",
        "  for x_index in range(x_size):\r\n",
        "    data_slice = data[x_index, :, :]\r\n",
        "    data_slice_size = data_slice.shape\r\n",
        "\r\n",
        "    # Convert data into input images to the neural network\r\n",
        "    data_slice = cv2.resize(data_slice, (128, 128)).astype(np.float32) \r\n",
        "    data_slice = np.stack((data_slice,)*3, axis=-1)\r\n",
        "    data_slice = data_slice[np.newaxis, :]\r\n",
        "\r\n",
        "    prediction = model.predict(data_slice)\r\n",
        "    prediction[prediction > 0.3] = 1\r\n",
        "    prediction[prediction < 0.3] = 0\r\n",
        "\r\n",
        "    prediction = cv2.resize(prediction.squeeze(), data_slice_size[::-1])\r\n",
        "    labels[x_index, :, :] = prediction[:,:]\r\n",
        "  \r\n",
        "  save_labels(labels, affine, second_dataset_predictions_path / f'{scan_path.name}.nii.gz')"
      ],
      "execution_count": null,
      "outputs": []
    },
    {
      "cell_type": "markdown",
      "metadata": {
        "id": "Z30nd05N7SjX"
      },
      "source": [
        "Convert to zip and save folder Predictions in order to prevent losing temporary data from colab."
      ]
    },
    {
      "cell_type": "code",
      "metadata": {
        "id": "J60b9rJijJI7"
      },
      "source": [
        "# Zip folder\r\n",
        "!zip -r Predictions.zip /content/Predictions"
      ],
      "execution_count": null,
      "outputs": []
    },
    {
      "cell_type": "code",
      "metadata": {
        "id": "8wzngTAujZNR"
      },
      "source": [
        "# Move folder Predictions to your drive\r\n",
        "! mv /content/Predictions.zip /content/drive/MyDrive"
      ],
      "execution_count": null,
      "outputs": []
    },
    {
      "cell_type": "markdown",
      "metadata": {
        "id": "qIB_DC5E7DkH"
      },
      "source": [
        "Upload folder Predictions from your drive if you lost your temporary data from colab"
      ]
    },
    {
      "cell_type": "code",
      "metadata": {
        "id": "Gg_6JtAsBHXT"
      },
      "source": [
        "from google.colab import drive\r\n",
        "drive.mount('/content/drive')"
      ],
      "execution_count": null,
      "outputs": []
    },
    {
      "cell_type": "code",
      "metadata": {
        "id": "pe_EnFIwBM_c"
      },
      "source": [
        "!unzip -q \"/content/Aleksandra_Przybylska_Predictions.zip\""
      ],
      "execution_count": null,
      "outputs": []
    },
    {
      "cell_type": "code",
      "metadata": {
        "id": "6RNkOKmFBa_d"
      },
      "source": [
        "!mv /content/content/Predictions /content/"
      ],
      "execution_count": null,
      "outputs": []
    },
    {
      "cell_type": "code",
      "metadata": {
        "id": "Wzh86WmJBn_d"
      },
      "source": [
        "! rm -rf /content/content"
      ],
      "execution_count": null,
      "outputs": []
    },
    {
      "cell_type": "code",
      "metadata": {
        "id": "l_jf6fBAB5tS"
      },
      "source": [
        "from pathlib import Path\r\n",
        "import nibabel as nib\r\n",
        "\r\n",
        "predictions_base_path = Path('/content/Predictions')\r\n",
        "first_dataset_predictions_path = predictions_base_path / 'first'\r\n",
        "second_dataset_predictions_path = predictions_base_path / 'second'"
      ],
      "execution_count": null,
      "outputs": []
    },
    {
      "cell_type": "markdown",
      "metadata": {
        "id": "zm4CtSG6BFBE"
      },
      "source": [
        "# Check your predictions"
      ]
    },
    {
      "cell_type": "code",
      "metadata": {
        "id": "RcnLYQkZyVXa"
      },
      "source": [
        "import requests\n",
        "import zlib\n",
        "import numpy as np\n",
        "\n",
        "\n",
        "values = []\n",
        "\n",
        "for dataset_predictions_path in (first_dataset_predictions_path, second_dataset_predictions_path):\n",
        "  for prediction_path in dataset_predictions_path.iterdir():\n",
        "    prediction_name = prediction_path.name[:-7]  # Usuwanie '.nii.gz' z nazwy pliku\n",
        "    prediction = nib.load(str(prediction_path))\n",
        "\n",
        "    response = requests.post(f'https://zpo.dpieczynski.pl/{prediction_name}', data=zlib.compress(prediction.to_bytes()))\n",
        "    if response.status_code == 200:\n",
        "        print(dataset_predictions_path.name, prediction_path.name, response.json())\n",
        "        values.append(response.json()['dice'])\n",
        "    else:\n",
        "        print(f'Error processing prediction {dataset_predictions_path.name}/{prediction_name}: {response.text}')\n",
        "\n",
        "# Count mean value of your metric\n",
        "print(\"Mean\", np.mean(values))"
      ],
      "execution_count": null,
      "outputs": []
    }
  ]
}